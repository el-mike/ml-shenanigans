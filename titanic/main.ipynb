{
 "cells": [
  {
   "cell_type": "code",
   "execution_count": 8,
   "metadata": {},
   "outputs": [
    {
     "name": "stdout",
     "output_type": "stream",
     "text": [
      "The autoreload extension is already loaded. To reload it, use:\n",
      "  %reload_ext autoreload\n"
     ]
    }
   ],
   "source": [
    "%load_ext autoreload\n",
    "%autoreload 2\n",
    "\n",
    "# Autoreload is important, otherwise .py scripts won't be reloaded after changes.\n",
    "\n",
    "import matplotlib as mpl\n",
    "import matplotlib.pyplot as plt\n",
    "import matplotlib.patches as patches\n",
    "import numpy as np\n",
    "\n",
    "from sklearn.metrics import ConfusionMatrixDisplay\n",
    "from sklearn.neighbors import KNeighborsClassifier\n",
    "from sklearn.model_selection import train_test_split, cross_val_predict, GridSearchCV\n",
    "from sklearn.pipeline import Pipeline\n",
    "from sklearn.preprocessing import StandardScaler\n",
    "\n",
    "import data_loader"
   ]
  },
  {
   "cell_type": "code",
   "execution_count": 10,
   "metadata": {},
   "outputs": [],
   "source": [
    "loader = data_loader.DataLoader()\n",
    "\n",
    "train_set, test_set = loader.get_data()"
   ]
  },
  {
   "cell_type": "code",
   "execution_count": 11,
   "metadata": {},
   "outputs": [
    {
     "data": {
      "text/plain": [
       "(     PassengerId  Survived  Pclass  \\\n",
       " 0              1         0       3   \n",
       " 1              2         1       1   \n",
       " 2              3         1       3   \n",
       " 3              4         1       1   \n",
       " 4              5         0       3   \n",
       " ..           ...       ...     ...   \n",
       " 886          887         0       2   \n",
       " 887          888         1       1   \n",
       " 888          889         0       3   \n",
       " 889          890         1       1   \n",
       " 890          891         0       3   \n",
       " \n",
       "                                                   Name     Sex   Age  SibSp  \\\n",
       " 0                              Braund, Mr. Owen Harris    male  22.0      1   \n",
       " 1    Cumings, Mrs. John Bradley (Florence Briggs Th...  female  38.0      1   \n",
       " 2                               Heikkinen, Miss. Laina  female  26.0      0   \n",
       " 3         Futrelle, Mrs. Jacques Heath (Lily May Peel)  female  35.0      1   \n",
       " 4                             Allen, Mr. William Henry    male  35.0      0   \n",
       " ..                                                 ...     ...   ...    ...   \n",
       " 886                              Montvila, Rev. Juozas    male  27.0      0   \n",
       " 887                       Graham, Miss. Margaret Edith  female  19.0      0   \n",
       " 888           Johnston, Miss. Catherine Helen \"Carrie\"  female   NaN      1   \n",
       " 889                              Behr, Mr. Karl Howell    male  26.0      0   \n",
       " 890                                Dooley, Mr. Patrick    male  32.0      0   \n",
       " \n",
       "      Parch            Ticket     Fare Cabin Embarked  \n",
       " 0        0         A/5 21171   7.2500   NaN        S  \n",
       " 1        0          PC 17599  71.2833   C85        C  \n",
       " 2        0  STON/O2. 3101282   7.9250   NaN        S  \n",
       " 3        0            113803  53.1000  C123        S  \n",
       " 4        0            373450   8.0500   NaN        S  \n",
       " ..     ...               ...      ...   ...      ...  \n",
       " 886      0            211536  13.0000   NaN        S  \n",
       " 887      0            112053  30.0000   B42        S  \n",
       " 888      2        W./C. 6607  23.4500   NaN        S  \n",
       " 889      0            111369  30.0000  C148        C  \n",
       " 890      0            370376   7.7500   NaN        Q  \n",
       " \n",
       " [891 rows x 12 columns],\n",
       "      PassengerId  Pclass                                          Name  \\\n",
       " 0            892       3                              Kelly, Mr. James   \n",
       " 1            893       3              Wilkes, Mrs. James (Ellen Needs)   \n",
       " 2            894       2                     Myles, Mr. Thomas Francis   \n",
       " 3            895       3                              Wirz, Mr. Albert   \n",
       " 4            896       3  Hirvonen, Mrs. Alexander (Helga E Lindqvist)   \n",
       " ..           ...     ...                                           ...   \n",
       " 413         1305       3                            Spector, Mr. Woolf   \n",
       " 414         1306       1                  Oliva y Ocana, Dona. Fermina   \n",
       " 415         1307       3                  Saether, Mr. Simon Sivertsen   \n",
       " 416         1308       3                           Ware, Mr. Frederick   \n",
       " 417         1309       3                      Peter, Master. Michael J   \n",
       " \n",
       "         Sex   Age  SibSp  Parch              Ticket      Fare Cabin Embarked  \n",
       " 0      male  34.5      0      0              330911    7.8292   NaN        Q  \n",
       " 1    female  47.0      1      0              363272    7.0000   NaN        S  \n",
       " 2      male  62.0      0      0              240276    9.6875   NaN        Q  \n",
       " 3      male  27.0      0      0              315154    8.6625   NaN        S  \n",
       " 4    female  22.0      1      1             3101298   12.2875   NaN        S  \n",
       " ..      ...   ...    ...    ...                 ...       ...   ...      ...  \n",
       " 413    male   NaN      0      0           A.5. 3236    8.0500   NaN        S  \n",
       " 414  female  39.0      0      0            PC 17758  108.9000  C105        C  \n",
       " 415    male  38.5      0      0  SOTON/O.Q. 3101262    7.2500   NaN        S  \n",
       " 416    male   NaN      0      0              359309    8.0500   NaN        S  \n",
       " 417    male   NaN      1      1                2668   22.3583   NaN        C  \n",
       " \n",
       " [418 rows x 11 columns])"
      ]
     },
     "execution_count": 11,
     "metadata": {},
     "output_type": "execute_result"
    }
   ],
   "source": [
    "train_set, test_set"
   ]
  }
 ],
 "metadata": {
  "kernelspec": {
   "display_name": "Python 3.10.6 64-bit",
   "language": "python",
   "name": "python3"
  },
  "language_info": {
   "codemirror_mode": {
    "name": "ipython",
    "version": 3
   },
   "file_extension": ".py",
   "mimetype": "text/x-python",
   "name": "python",
   "nbconvert_exporter": "python",
   "pygments_lexer": "ipython3",
   "version": "3.10.6"
  },
  "orig_nbformat": 4,
  "vscode": {
   "interpreter": {
    "hash": "916dbcbb3f70747c44a77c7bcd40155683ae19c65e1c03b4aa3499c5328201f1"
   }
  }
 },
 "nbformat": 4,
 "nbformat_minor": 2
}
