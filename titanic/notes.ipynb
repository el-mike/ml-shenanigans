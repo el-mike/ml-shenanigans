{
 "cells": [
  {
   "cell_type": "markdown",
   "metadata": {},
   "source": [
    "## Problem type\n",
    "Supervised, binary classification problem. "
   ]
  },
  {
   "cell_type": "markdown",
   "metadata": {},
   "source": [
    "## Data notes\n",
    "\n",
    "- train set contains labels, test set does not\n",
    "- we have **891** instances in train set and **418** in test set.\n",
    "- **177** Age values are null, **687** Cabin, and **2** Embarked"
   ]
  },
  {
   "cell_type": "markdown",
   "metadata": {},
   "source": [
    "### Potential correlations\n",
    "- females are more likely to survive\n",
    "- children are more likely to survive\n",
    "- people with younger siblings on board are more likely to die\n",
    "- old people are more likely to die\n",
    "- males with spouses are more likely to die\n",
    "- people with children on board are more likely to die\n",
    "-  "
   ]
  }
 ],
 "metadata": {
  "kernelspec": {
   "display_name": "Python 3.10.6 64-bit",
   "language": "python",
   "name": "python3"
  },
  "language_info": {
   "name": "python",
   "version": "3.10.6"
  },
  "orig_nbformat": 4,
  "vscode": {
   "interpreter": {
    "hash": "916dbcbb3f70747c44a77c7bcd40155683ae19c65e1c03b4aa3499c5328201f1"
   }
  }
 },
 "nbformat": 4,
 "nbformat_minor": 2
}
